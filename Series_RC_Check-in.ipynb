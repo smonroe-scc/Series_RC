{
 "cells": [
  {
   "cell_type": "code",
   "execution_count": 1,
   "metadata": {},
   "outputs": [
    {
     "name": "stdout",
     "output_type": "stream",
     "text": [
      "Author        : sm626967\n",
      "Python        : 3.8.3 \n",
      "NumPy         : 1.18.5\n",
      "Encoding      : utf-8\n",
      "Timestamp     : 1707488344.6539688\n"
     ]
    }
   ],
   "source": [
    "%run ./py_templates/1_Boilerplate_numeric.py"
   ]
  },
  {
   "cell_type": "code",
   "execution_count": 2,
   "metadata": {},
   "outputs": [],
   "source": [
    "p=float(pi)\n",
    "\n",
    "#Given:\n",
    "\n",
    "f=100.0\n",
    "ω=2*p*f\n",
    "egen=240+0j\n",
    "r1=560.0\n",
    "c1=14.0E-6"
   ]
  },
  {
   "cell_type": "code",
   "execution_count": 3,
   "metadata": {},
   "outputs": [
    {
     "name": "stdout",
     "output_type": "stream",
     "text": [
      "ω= 628.3185307179587\n"
     ]
    }
   ],
   "source": [
    "print(\"ω=\",ω)"
   ]
  },
  {
   "cell_type": "code",
   "execution_count": 4,
   "metadata": {},
   "outputs": [
    {
     "name": "stdout",
     "output_type": "stream",
     "text": [
      "XC= -113.68210220849667j Ω\n"
     ]
    }
   ],
   "source": [
    "xc=(reciprocal(ω*c1))*-1j\n",
    "print(\"XC=\",xc,\"Ω\")"
   ]
  },
  {
   "cell_type": "code",
   "execution_count": 5,
   "metadata": {},
   "outputs": [
    {
     "name": "stdout",
     "output_type": "stream",
     "text": [
      "Series Current (Rectangular Form)           : (0.41160881363122853+0.08355813432347033j) A\n",
      "Voltage across Capacitor (Rectangular Form) : (9.499064366512048-46.79255522114338j) V\n",
      "Voltage across  Resistor (Rectangular Form) : (230.50093563348798+46.79255522114338j) V\n",
      "Series Current (Polar Form)                 : (0.4200044967265547, 11.475319579061367) A\n",
      "Voltage across Capacitor (Polar Form)       : (47.7469941248964, -78.52468042093864) V\n",
      "Voltage across  Resistor (Polar Form)       : (235.20251816687065, 11.475319579061365) V\n"
     ]
    }
   ],
   "source": [
    "zt=r1+xc\n",
    "it=egen/zt\n",
    "print(\"Series Current (Rectangular Form)           :\",it,\"A\")\n",
    "print(\"Voltage across Capacitor (Rectangular Form) :\",it*xc,\"V\")\n",
    "print(\"Voltage across  Resistor (Rectangular Form) :\",it*r1,\"V\")\n",
    "print(\"Series Current (Polar Form)                 :\",R2P(it),\"A\")\n",
    "print(\"Voltage across Capacitor (Polar Form)       :\",R2P(it*xc),\"V\")\n",
    "print(\"Voltage across  Resistor (Polar Form)       :\",R2P(it*r1),\"V\")\n",
    "pr1=it**2*r1\n",
    "px=it**2*xc\n",
    "papp=it**2*egen"
   ]
  },
  {
   "cell_type": "code",
   "execution_count": 6,
   "metadata": {},
   "outputs": [],
   "source": [
    "xc_polar=R2P(xc)\n",
    "ZT_Polar=R2P(zt)\n",
    "IT_=R2P(it)\n",
    "PR1_=R2P(pr1)\n",
    "Px_=R2P(px)\n",
    "Papp_=R2P(papp)\n",
    "pf=cosd(PR1_[0]/Papp_[0])"
   ]
  },
  {
   "cell_type": "code",
   "execution_count": 7,
   "metadata": {},
   "outputs": [
    {
     "name": "stdout",
     "output_type": "stream",
     "text": [
      "     XC: 113.68210 Ω\n",
      "      Z: 571.42245 Ω\n",
      "      θ: -11.47532 degrees\n",
      "     IT: 4.20004e-01 Amperes ∠ 11.475 °\n",
      "    PR1: 98.786115 Watts ∠ 22.951 °\n",
      "   PAPP: 42.336907 VA ∠ 22.951 °\n",
      "     PX: 20.053952 VAR ∠ -67.049 °\n",
      "     pf: 0.9992\n"
     ]
    }
   ],
   "source": [
    "print(\"     XC:\",'{0:.5f}'.format(xc_polar[0]),\"Ω\")\n",
    "print(\"      Z:\",'{0:.5f}'.format(ZT_Polar[0]),\"Ω\")\n",
    "print(\"      θ:\",'{0:.5f}'.format(ZT_Polar[1]),\"degrees\")\n",
    "print(\"     IT:\",'{0:.5e}'.format(IT_[0]),\"Amperes \\u2220\",'{0:.3f}'.format(IT_[1]),\"\\u00B0\")\n",
    "print(\"    PR1:\",'{0:.6f}'.format(PR1_[0]),\"Watts \\u2220\",'{0:.3f}'.format(PR1_[1]),\"\\u00B0\")\n",
    "print(\"   PAPP:\",'{0:.6f}'.format(Papp_[0]),\"VA \\u2220\",'{0:.3f}'.format(Papp_[1]),\"\\u00B0\")\n",
    "print(\"     PX:\",'{0:.6f}'.format(Px_[0]),\"VAR \\u2220\",'{0:.3f}'.format(Px_[1]),\"\\u00B0\")\n",
    "print(\"     pf:\",'{0:.4f}'.format(pf))"
   ]
  }
 ],
 "metadata": {
  "kernelspec": {
   "display_name": "Python 3",
   "language": "python",
   "name": "python3"
  },
  "language_info": {
   "codemirror_mode": {
    "name": "ipython",
    "version": 3
   },
   "file_extension": ".py",
   "mimetype": "text/x-python",
   "name": "python",
   "nbconvert_exporter": "python",
   "pygments_lexer": "ipython3",
   "version": "3.8.3"
  }
 },
 "nbformat": 4,
 "nbformat_minor": 2
}
